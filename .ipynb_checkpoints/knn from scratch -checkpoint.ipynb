{
 "cells": [
  {
   "cell_type": "code",
   "execution_count": 1,
   "metadata": {},
   "outputs": [],
   "source": [
    "import pandas as pd"
   ]
  },
  {
   "cell_type": "code",
   "execution_count": 117,
   "metadata": {},
   "outputs": [],
   "source": [
    "df = pd.read_csv('Iris.csv')"
   ]
  },
  {
   "cell_type": "code",
   "execution_count": 187,
   "metadata": {},
   "outputs": [],
   "source": [
    "def train_test_split(data,test_size):\n",
    "    df.replace(to_replace=['Iris-setosa','Iris-versicolor','Iris-virginica'],value=[-1,0,1],inplace=True)\n",
    "    data = data.sample(frac = 1)\n",
    "    train_size = int((1-test_size)*len(data))\n",
    "    train_data = data.iloc[:train_size]\n",
    "    test_data = data.iloc[train_size:]\n",
    "    return train_data,test_data"
   ]
  },
  {
   "cell_type": "code",
   "execution_count": 188,
   "metadata": {},
   "outputs": [],
   "source": [
    "train,test = train_test_split(df,0.3)"
   ]
  },
  {
   "cell_type": "code",
   "execution_count": 189,
   "metadata": {},
   "outputs": [],
   "source": [
    "def euclidean_distance(test_row,row) :\n",
    "    dist = 0\n",
    "    for i in range(len(test_row)) :\n",
    "        dist += (test_row[i] - row[i])**2\n",
    "    return dist ** 0.5"
   ]
  },
  {
   "cell_type": "code",
   "execution_count": 190,
   "metadata": {},
   "outputs": [],
   "source": [
    "def get_neighbours(train, test_row , k) :\n",
    "    distances_dict = {}\n",
    "    final_list = []\n",
    "    for train_row in np.array(train) : \n",
    "        distance = euclidean_distance(test_row, train_row)\n",
    "        distances_dict[distance] = train_row\n",
    "        minimum = sorted(list(distances_dict.keys()))[:k]\n",
    "    for i in minimum:\n",
    "        final_list.append(distances_dict[i])\n",
    "    return final_list"
   ]
  },
  {
   "cell_type": "code",
   "execution_count": 191,
   "metadata": {},
   "outputs": [],
   "source": [
    "def make_predictions(neighbours):\n",
    "    pred = []\n",
    "    for i in neighbours:\n",
    "        pred.append(i[-1])\n",
    "    return max(set(pred),key = pred.count)"
   ]
  },
  {
   "cell_type": "code",
   "execution_count": null,
   "metadata": {},
   "outputs": [],
   "source": []
  }
 ],
 "metadata": {
  "kernelspec": {
   "display_name": "Python 3",
   "language": "python",
   "name": "python3"
  },
  "language_info": {
   "codemirror_mode": {
    "name": "ipython",
    "version": 3
   },
   "file_extension": ".py",
   "mimetype": "text/x-python",
   "name": "python",
   "nbconvert_exporter": "python",
   "pygments_lexer": "ipython3",
   "version": "3.8.5"
  }
 },
 "nbformat": 4,
 "nbformat_minor": 4
}
