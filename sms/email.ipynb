{
 "cells": [
  {
   "cell_type": "code",
   "execution_count": 2,
   "metadata": {},
   "outputs": [],
   "source": [
    "import numpy as np\n",
    "import pandas as pd"
   ]
  },
  {
   "cell_type": "code",
   "execution_count": 3,
   "metadata": {},
   "outputs": [],
   "source": [
    "sms_data = pd.read_csv('SMSSpamCollection' , sep = '\\t' , header = None , names = ['Label' , 'SMS'])"
   ]
  },
  {
   "cell_type": "code",
   "execution_count": 4,
   "metadata": {},
   "outputs": [
    {
     "data": {
      "text/html": [
       "<div>\n",
       "<style scoped>\n",
       "    .dataframe tbody tr th:only-of-type {\n",
       "        vertical-align: middle;\n",
       "    }\n",
       "\n",
       "    .dataframe tbody tr th {\n",
       "        vertical-align: top;\n",
       "    }\n",
       "\n",
       "    .dataframe thead th {\n",
       "        text-align: right;\n",
       "    }\n",
       "</style>\n",
       "<table border=\"1\" class=\"dataframe\">\n",
       "  <thead>\n",
       "    <tr style=\"text-align: right;\">\n",
       "      <th></th>\n",
       "      <th>Label</th>\n",
       "      <th>SMS</th>\n",
       "    </tr>\n",
       "  </thead>\n",
       "  <tbody>\n",
       "    <tr>\n",
       "      <th>0</th>\n",
       "      <td>ham</td>\n",
       "      <td>Go until jurong point, crazy.. Available only ...</td>\n",
       "    </tr>\n",
       "    <tr>\n",
       "      <th>1</th>\n",
       "      <td>ham</td>\n",
       "      <td>Ok lar... Joking wif u oni...</td>\n",
       "    </tr>\n",
       "    <tr>\n",
       "      <th>2</th>\n",
       "      <td>spam</td>\n",
       "      <td>Free entry in 2 a wkly comp to win FA Cup fina...</td>\n",
       "    </tr>\n",
       "    <tr>\n",
       "      <th>3</th>\n",
       "      <td>ham</td>\n",
       "      <td>U dun say so early hor... U c already then say...</td>\n",
       "    </tr>\n",
       "    <tr>\n",
       "      <th>4</th>\n",
       "      <td>ham</td>\n",
       "      <td>Nah I don't think he goes to usf, he lives aro...</td>\n",
       "    </tr>\n",
       "  </tbody>\n",
       "</table>\n",
       "</div>"
      ],
      "text/plain": [
       "  Label                                                SMS\n",
       "0   ham  Go until jurong point, crazy.. Available only ...\n",
       "1   ham                      Ok lar... Joking wif u oni...\n",
       "2  spam  Free entry in 2 a wkly comp to win FA Cup fina...\n",
       "3   ham  U dun say so early hor... U c already then say...\n",
       "4   ham  Nah I don't think he goes to usf, he lives aro..."
      ]
     },
     "execution_count": 4,
     "metadata": {},
     "output_type": "execute_result"
    }
   ],
   "source": [
    "sms_data.head()"
   ]
  },
  {
   "cell_type": "code",
   "execution_count": 5,
   "metadata": {},
   "outputs": [
    {
     "data": {
      "text/html": [
       "<div>\n",
       "<style scoped>\n",
       "    .dataframe tbody tr th:only-of-type {\n",
       "        vertical-align: middle;\n",
       "    }\n",
       "\n",
       "    .dataframe tbody tr th {\n",
       "        vertical-align: top;\n",
       "    }\n",
       "\n",
       "    .dataframe thead th {\n",
       "        text-align: right;\n",
       "    }\n",
       "</style>\n",
       "<table border=\"1\" class=\"dataframe\">\n",
       "  <thead>\n",
       "    <tr style=\"text-align: right;\">\n",
       "      <th></th>\n",
       "      <th>SMS</th>\n",
       "    </tr>\n",
       "    <tr>\n",
       "      <th>Label</th>\n",
       "      <th></th>\n",
       "    </tr>\n",
       "  </thead>\n",
       "  <tbody>\n",
       "    <tr>\n",
       "      <th>ham</th>\n",
       "      <td>4825</td>\n",
       "    </tr>\n",
       "    <tr>\n",
       "      <th>spam</th>\n",
       "      <td>747</td>\n",
       "    </tr>\n",
       "  </tbody>\n",
       "</table>\n",
       "</div>"
      ],
      "text/plain": [
       "        SMS\n",
       "Label      \n",
       "ham    4825\n",
       "spam    747"
      ]
     },
     "execution_count": 5,
     "metadata": {},
     "output_type": "execute_result"
    }
   ],
   "source": [
    "sms_data.groupby('Label').count()"
   ]
  },
  {
   "cell_type": "code",
   "execution_count": 6,
   "metadata": {},
   "outputs": [],
   "source": [
    "sms_data_clean = sms_data.copy()"
   ]
  },
  {
   "cell_type": "code",
   "execution_count": 7,
   "metadata": {},
   "outputs": [],
   "source": [
    "sms_data_clean['SMS'] = sms_data_clean['SMS'].str.replace('\\W+', ' ').str.replace('\\s+', ' ').str.strip()"
   ]
  },
  {
   "cell_type": "code",
   "execution_count": 8,
   "metadata": {},
   "outputs": [],
   "source": [
    "sms_data_clean['SMS'] = sms_data_clean['SMS'].str.lower()"
   ]
  },
  {
   "cell_type": "code",
   "execution_count": 9,
   "metadata": {},
   "outputs": [],
   "source": [
    "sms_data_clean['SMS'] = sms_data_clean['SMS'].str.split()"
   ]
  },
  {
   "cell_type": "code",
   "execution_count": 10,
   "metadata": {},
   "outputs": [],
   "source": [
    "def train_test_split(data,test_size):\n",
    "    data = data.sample(frac = 1)\n",
    "    train_size = int((1-test_size)*len(data))\n",
    "    train_data = data.iloc[:train_size].reset_index(drop=True)\n",
    "    test_data = data.iloc[train_size:].reset_index(drop=True)\n",
    "    return train_data,test_data"
   ]
  },
  {
   "cell_type": "code",
   "execution_count": 11,
   "metadata": {},
   "outputs": [],
   "source": [
    "train_data,test_data = train_test_split(sms_data_clean,0.2)"
   ]
  },
  {
   "cell_type": "code",
   "execution_count": 12,
   "metadata": {},
   "outputs": [
    {
     "data": {
      "text/plain": [
       "ham     86.60534\n",
       "spam    13.39466\n",
       "Name: Label, dtype: float64"
      ]
     },
     "execution_count": 12,
     "metadata": {},
     "output_type": "execute_result"
    }
   ],
   "source": [
    "(train_data['Label'].value_counts()/train_data.shape[0])*100"
   ]
  },
  {
   "cell_type": "code",
   "execution_count": 13,
   "metadata": {
    "scrolled": true
   },
   "outputs": [],
   "source": [
    "vocabulary=list(set(train_data['SMS'].sum()))"
   ]
  },
  {
   "cell_type": "code",
   "execution_count": 14,
   "metadata": {},
   "outputs": [
    {
     "data": {
      "text/plain": [
       "7767"
      ]
     },
     "execution_count": 14,
     "metadata": {},
     "output_type": "execute_result"
    }
   ],
   "source": [
    "len(vocabulary)"
   ]
  },
  {
   "cell_type": "code",
   "execution_count": 15,
   "metadata": {},
   "outputs": [
    {
     "data": {
      "text/plain": [
       "71633"
      ]
     },
     "execution_count": 15,
     "metadata": {},
     "output_type": "execute_result"
    }
   ],
   "source": [
    "len(train_data['SMS'].sum())"
   ]
  },
  {
   "cell_type": "code",
   "execution_count": 16,
   "metadata": {},
   "outputs": [],
   "source": [
    "bag_of_words_ham = list(train_data.loc[train_data['Label'] == 'ham','SMS'].sum())"
   ]
  },
  {
   "cell_type": "code",
   "execution_count": 17,
   "metadata": {},
   "outputs": [
    {
     "data": {
      "text/plain": [
       "56346"
      ]
     },
     "execution_count": 17,
     "metadata": {},
     "output_type": "execute_result"
    }
   ],
   "source": [
    "len(bag_of_words_ham)"
   ]
  },
  {
   "cell_type": "code",
   "execution_count": 18,
   "metadata": {},
   "outputs": [],
   "source": [
    "bag_of_words_spam = list(train_data.loc[train_data['Label'] == 'spam','SMS'].sum())"
   ]
  },
  {
   "cell_type": "code",
   "execution_count": 19,
   "metadata": {},
   "outputs": [
    {
     "data": {
      "text/plain": [
       "15287"
      ]
     },
     "execution_count": 19,
     "metadata": {},
     "output_type": "execute_result"
    }
   ],
   "source": [
    "len(bag_of_words_spam)"
   ]
  },
  {
   "cell_type": "markdown",
   "metadata": {},
   "source": [
    "## P(H='spam'|E= words in sentence)=\n",
    "### P(H='spam') * P(E='you' and 'have' and 'won' and 'a' and 'lottery'|H='spam')\n",
    "#### = P(H='spam') * P(E='you' |H='spam') * P(E='have' and 'won' and 'a' and 'lottery'|H='spam')\n",
    "#### = P(H='spam') * P(E='you' |H='spam') * P(E='have' |H='spam') * P(E= 'won' | H='spam') * P(E='a' |H='spam') * P(E='lottery' |H='spam')"
   ]
  },
  {
   "cell_type": "markdown",
   "metadata": {},
   "source": [
    "alpha = 1\n",
    "total number of words in spam = N\n",
    "#### P(E='you' |H='spam') = (number of 'you' in spam + aplha)/ (N + N * alpha  )"
   ]
  },
  {
   "cell_type": "code",
   "execution_count": 20,
   "metadata": {},
   "outputs": [],
   "source": [
    "freq_ham = {}\n",
    "freq_spam = {}\n",
    "for word in vocabulary:\n",
    "    freq_ham[word]=bag_of_words_ham.count(word)\n",
    "    freq_spam[word]=bag_of_words_spam.count(word)"
   ]
  },
  {
   "cell_type": "code",
   "execution_count": 21,
   "metadata": {},
   "outputs": [],
   "source": [
    "Pspam = train_data['Label'].value_counts()['spam'] / train_data.shape[0]\n",
    "Pham = train_data['Label'].value_counts()['ham'] / train_data.shape[0]"
   ]
  },
  {
   "cell_type": "code",
   "execution_count": 22,
   "metadata": {},
   "outputs": [],
   "source": [
    "Nvoc = len(bag_of_words_ham)+len(bag_of_words_spam)"
   ]
  },
  {
   "cell_type": "code",
   "execution_count": 28,
   "metadata": {},
   "outputs": [],
   "source": [
    "alpha = 1"
   ]
  },
  {
   "cell_type": "code",
   "execution_count": 24,
   "metadata": {},
   "outputs": [],
   "source": [
    "spam_count=train_data.loc[train_data['Label'] == 'spam','SMS'].count()\n",
    "ham_count=train_data.loc[train_data['Label'] == 'ham','SMS'].count()"
   ]
  },
  {
   "cell_type": "code",
   "execution_count": 37,
   "metadata": {},
   "outputs": [],
   "source": [
    "Nspam = train_data.loc[train_data['Label'] == 'spam', 'SMS'].apply(len).sum()\n",
    "Nham = train_data.loc[train_data['Label'] == 'ham', 'SMS'].apply(len).sum()"
   ]
  },
  {
   "cell_type": "code",
   "execution_count": 29,
   "metadata": {},
   "outputs": [],
   "source": [
    "def p_w_spam(word,freq_spam = freq_spam):\n",
    "    if word in freq_spam.keys():\n",
    "        return (freq_spam[word]+ alpha) / (Nspam + alpha*Nvoc)\n",
    "    else:\n",
    "        return 1"
   ]
  },
  {
   "cell_type": "code",
   "execution_count": 45,
   "metadata": {},
   "outputs": [],
   "source": [
    "def p_w_ham(word,freq_ham = freq_ham):\n",
    "    if word in freq_ham.keys():\n",
    "        return (freq_ham[word]+ alpha) / (Nham + alpha*Nvoc)\n",
    "    else:\n",
    "        return 1"
   ]
  },
  {
   "cell_type": "code",
   "execution_count": 58,
   "metadata": {},
   "outputs": [],
   "source": [
    "def classify(message):\n",
    "    p_h_w = Pham\n",
    "    for word in message:\n",
    "        p_h_w = p_h_w*p_w_ham(word)\n",
    "    p_s_w = Pspam\n",
    "    for word in message:\n",
    "        p_s_w = p_s_w*p_w_spam(word)\n",
    "    if p_s_w >= p_h_w:\n",
    "        return 'spam'\n",
    "    else:\n",
    "        return 'ham'"
   ]
  },
  {
   "cell_type": "code",
   "execution_count": 62,
   "metadata": {},
   "outputs": [],
   "source": [
    "test_data['predicted'] = test_data['SMS'].apply(classify)"
   ]
  },
  {
   "cell_type": "code",
   "execution_count": 60,
   "metadata": {},
   "outputs": [
    {
     "data": {
      "text/html": [
       "<div>\n",
       "<style scoped>\n",
       "    .dataframe tbody tr th:only-of-type {\n",
       "        vertical-align: middle;\n",
       "    }\n",
       "\n",
       "    .dataframe tbody tr th {\n",
       "        vertical-align: top;\n",
       "    }\n",
       "\n",
       "    .dataframe thead th {\n",
       "        text-align: right;\n",
       "    }\n",
       "</style>\n",
       "<table border=\"1\" class=\"dataframe\">\n",
       "  <thead>\n",
       "    <tr style=\"text-align: right;\">\n",
       "      <th></th>\n",
       "      <th>Label</th>\n",
       "      <th>SMS</th>\n",
       "      <th>predicted</th>\n",
       "    </tr>\n",
       "  </thead>\n",
       "  <tbody>\n",
       "    <tr>\n",
       "      <th>0</th>\n",
       "      <td>ham</td>\n",
       "      <td>[2, celebrate, my, b, day, y, else]</td>\n",
       "      <td>ham</td>\n",
       "    </tr>\n",
       "    <tr>\n",
       "      <th>1</th>\n",
       "      <td>spam</td>\n",
       "      <td>[win, urgent, your, mobile, number, has, been,...</td>\n",
       "      <td>spam</td>\n",
       "    </tr>\n",
       "    <tr>\n",
       "      <th>2</th>\n",
       "      <td>ham</td>\n",
       "      <td>[dunno, i, juz, askin, cos, i, got, a, card, g...</td>\n",
       "      <td>ham</td>\n",
       "    </tr>\n",
       "    <tr>\n",
       "      <th>3</th>\n",
       "      <td>ham</td>\n",
       "      <td>[what, today, sunday, sunday, is, holiday, so,...</td>\n",
       "      <td>ham</td>\n",
       "    </tr>\n",
       "    <tr>\n",
       "      <th>4</th>\n",
       "      <td>spam</td>\n",
       "      <td>[had, your, contract, mobile, 11, mnths, lates...</td>\n",
       "      <td>spam</td>\n",
       "    </tr>\n",
       "    <tr>\n",
       "      <th>5</th>\n",
       "      <td>ham</td>\n",
       "      <td>[for, the, first, time, in, the, history, need...</td>\n",
       "      <td>ham</td>\n",
       "    </tr>\n",
       "    <tr>\n",
       "      <th>6</th>\n",
       "      <td>ham</td>\n",
       "      <td>[but, that, s, on, ebay, it, might, be, less, ...</td>\n",
       "      <td>ham</td>\n",
       "    </tr>\n",
       "    <tr>\n",
       "      <th>7</th>\n",
       "      <td>ham</td>\n",
       "      <td>[height, of, recycling, read, twice, people, s...</td>\n",
       "      <td>ham</td>\n",
       "    </tr>\n",
       "    <tr>\n",
       "      <th>8</th>\n",
       "      <td>ham</td>\n",
       "      <td>[i, m, now, but, have, to, wait, till, 2, for,...</td>\n",
       "      <td>ham</td>\n",
       "    </tr>\n",
       "    <tr>\n",
       "      <th>9</th>\n",
       "      <td>ham</td>\n",
       "      <td>[ela, kano, il, download, come, wen, ur, free]</td>\n",
       "      <td>ham</td>\n",
       "    </tr>\n",
       "    <tr>\n",
       "      <th>10</th>\n",
       "      <td>ham</td>\n",
       "      <td>[yep, at, derek, s, house, now, see, you, sund...</td>\n",
       "      <td>ham</td>\n",
       "    </tr>\n",
       "    <tr>\n",
       "      <th>11</th>\n",
       "      <td>spam</td>\n",
       "      <td>[thanks, for, your, ringtone, order, reference...</td>\n",
       "      <td>spam</td>\n",
       "    </tr>\n",
       "    <tr>\n",
       "      <th>12</th>\n",
       "      <td>ham</td>\n",
       "      <td>[ey, calm, downon, theacusations, itxt, u, cos...</td>\n",
       "      <td>ham</td>\n",
       "    </tr>\n",
       "    <tr>\n",
       "      <th>13</th>\n",
       "      <td>spam</td>\n",
       "      <td>[todays, vodafone, numbers, ending, with, 0089...</td>\n",
       "      <td>spam</td>\n",
       "    </tr>\n",
       "    <tr>\n",
       "      <th>14</th>\n",
       "      <td>spam</td>\n",
       "      <td>[you, have, won, a, guaranteed, 200, award, or...</td>\n",
       "      <td>spam</td>\n",
       "    </tr>\n",
       "  </tbody>\n",
       "</table>\n",
       "</div>"
      ],
      "text/plain": [
       "   Label                                                SMS predicted\n",
       "0    ham                [2, celebrate, my, b, day, y, else]       ham\n",
       "1   spam  [win, urgent, your, mobile, number, has, been,...      spam\n",
       "2    ham  [dunno, i, juz, askin, cos, i, got, a, card, g...       ham\n",
       "3    ham  [what, today, sunday, sunday, is, holiday, so,...       ham\n",
       "4   spam  [had, your, contract, mobile, 11, mnths, lates...      spam\n",
       "5    ham  [for, the, first, time, in, the, history, need...       ham\n",
       "6    ham  [but, that, s, on, ebay, it, might, be, less, ...       ham\n",
       "7    ham  [height, of, recycling, read, twice, people, s...       ham\n",
       "8    ham  [i, m, now, but, have, to, wait, till, 2, for,...       ham\n",
       "9    ham     [ela, kano, il, download, come, wen, ur, free]       ham\n",
       "10   ham  [yep, at, derek, s, house, now, see, you, sund...       ham\n",
       "11  spam  [thanks, for, your, ringtone, order, reference...      spam\n",
       "12   ham  [ey, calm, downon, theacusations, itxt, u, cos...       ham\n",
       "13  spam  [todays, vodafone, numbers, ending, with, 0089...      spam\n",
       "14  spam  [you, have, won, a, guaranteed, 200, award, or...      spam"
      ]
     },
     "execution_count": 60,
     "metadata": {},
     "output_type": "execute_result"
    }
   ],
   "source": [
    "test_data.head(15)"
   ]
  },
  {
   "cell_type": "code",
   "execution_count": 64,
   "metadata": {},
   "outputs": [
    {
     "data": {
      "text/plain": [
       "0.9650224215246637"
      ]
     },
     "execution_count": 64,
     "metadata": {},
     "output_type": "execute_result"
    }
   ],
   "source": [
    "sum(test_data['predicted'] == test_data['Label'])/test_data.shape[0]"
   ]
  },
  {
   "cell_type": "code",
   "execution_count": 65,
   "metadata": {
    "scrolled": true
   },
   "outputs": [
    {
     "data": {
      "text/html": [
       "<div>\n",
       "<style scoped>\n",
       "    .dataframe tbody tr th:only-of-type {\n",
       "        vertical-align: middle;\n",
       "    }\n",
       "\n",
       "    .dataframe tbody tr th {\n",
       "        vertical-align: top;\n",
       "    }\n",
       "\n",
       "    .dataframe thead th {\n",
       "        text-align: right;\n",
       "    }\n",
       "</style>\n",
       "<table border=\"1\" class=\"dataframe\">\n",
       "  <thead>\n",
       "    <tr style=\"text-align: right;\">\n",
       "      <th></th>\n",
       "      <th>Label</th>\n",
       "      <th>SMS</th>\n",
       "      <th>predicted</th>\n",
       "    </tr>\n",
       "  </thead>\n",
       "  <tbody>\n",
       "    <tr>\n",
       "      <th>52</th>\n",
       "      <td>spam</td>\n",
       "      <td>[more, people, are, dogging, in, your, area, n...</td>\n",
       "      <td>ham</td>\n",
       "    </tr>\n",
       "    <tr>\n",
       "      <th>83</th>\n",
       "      <td>spam</td>\n",
       "      <td>[you, are, being, contacted, by, our, dating, ...</td>\n",
       "      <td>ham</td>\n",
       "    </tr>\n",
       "    <tr>\n",
       "      <th>91</th>\n",
       "      <td>spam</td>\n",
       "      <td>[bank, of, granite, issues, strong, buy, explo...</td>\n",
       "      <td>ham</td>\n",
       "    </tr>\n",
       "    <tr>\n",
       "      <th>103</th>\n",
       "      <td>spam</td>\n",
       "      <td>[missed, call, alert, these, numbers, called, ...</td>\n",
       "      <td>ham</td>\n",
       "    </tr>\n",
       "    <tr>\n",
       "      <th>159</th>\n",
       "      <td>spam</td>\n",
       "      <td>[please, call, 08712402779, immediately, as, t...</td>\n",
       "      <td>ham</td>\n",
       "    </tr>\n",
       "    <tr>\n",
       "      <th>196</th>\n",
       "      <td>spam</td>\n",
       "      <td>[natalie, 20, f, is, inviting, you, to, be, he...</td>\n",
       "      <td>ham</td>\n",
       "    </tr>\n",
       "    <tr>\n",
       "      <th>229</th>\n",
       "      <td>spam</td>\n",
       "      <td>[thanks, for, the, vote, now, sing, along, wit...</td>\n",
       "      <td>ham</td>\n",
       "    </tr>\n",
       "    <tr>\n",
       "      <th>233</th>\n",
       "      <td>spam</td>\n",
       "      <td>[rct, thnq, adrian, for, u, text, rgds, vatian]</td>\n",
       "      <td>ham</td>\n",
       "    </tr>\n",
       "    <tr>\n",
       "      <th>251</th>\n",
       "      <td>spam</td>\n",
       "      <td>[sms, ac, sun0819, posts, hello, you, seem, co...</td>\n",
       "      <td>ham</td>\n",
       "    </tr>\n",
       "    <tr>\n",
       "      <th>267</th>\n",
       "      <td>spam</td>\n",
       "      <td>[please, call, 08712402902, immediately, as, t...</td>\n",
       "      <td>ham</td>\n",
       "    </tr>\n",
       "    <tr>\n",
       "      <th>313</th>\n",
       "      <td>spam</td>\n",
       "      <td>[reply, with, your, name, and, address, and, y...</td>\n",
       "      <td>ham</td>\n",
       "    </tr>\n",
       "    <tr>\n",
       "      <th>356</th>\n",
       "      <td>spam</td>\n",
       "      <td>[sms, ac, jsco, energy, is, high, but, u, may,...</td>\n",
       "      <td>ham</td>\n",
       "    </tr>\n",
       "    <tr>\n",
       "      <th>367</th>\n",
       "      <td>spam</td>\n",
       "      <td>[you, have, 1, new, message, please, call, 087...</td>\n",
       "      <td>ham</td>\n",
       "    </tr>\n",
       "    <tr>\n",
       "      <th>371</th>\n",
       "      <td>spam</td>\n",
       "      <td>[please, call, amanda, with, regard, to, renew...</td>\n",
       "      <td>ham</td>\n",
       "    </tr>\n",
       "    <tr>\n",
       "      <th>466</th>\n",
       "      <td>spam</td>\n",
       "      <td>[u, 447801259231, have, a, secret, admirer, wh...</td>\n",
       "      <td>ham</td>\n",
       "    </tr>\n",
       "    <tr>\n",
       "      <th>476</th>\n",
       "      <td>spam</td>\n",
       "      <td>[we, know, someone, who, you, know, that, fanc...</td>\n",
       "      <td>ham</td>\n",
       "    </tr>\n",
       "    <tr>\n",
       "      <th>481</th>\n",
       "      <td>spam</td>\n",
       "      <td>[thesmszone, com, lets, you, send, free, anony...</td>\n",
       "      <td>ham</td>\n",
       "    </tr>\n",
       "    <tr>\n",
       "      <th>482</th>\n",
       "      <td>spam</td>\n",
       "      <td>[your, next, amazing, xxx, picsfree1, video, w...</td>\n",
       "      <td>ham</td>\n",
       "    </tr>\n",
       "    <tr>\n",
       "      <th>542</th>\n",
       "      <td>spam</td>\n",
       "      <td>[for, sale, arsenal, dartboard, good, conditio...</td>\n",
       "      <td>ham</td>\n",
       "    </tr>\n",
       "    <tr>\n",
       "      <th>562</th>\n",
       "      <td>spam</td>\n",
       "      <td>[check, out, choose, your, babe, videos, sms, ...</td>\n",
       "      <td>ham</td>\n",
       "    </tr>\n",
       "    <tr>\n",
       "      <th>570</th>\n",
       "      <td>spam</td>\n",
       "      <td>[you, will, recieve, your, tone, within, the, ...</td>\n",
       "      <td>ham</td>\n",
       "    </tr>\n",
       "    <tr>\n",
       "      <th>629</th>\n",
       "      <td>spam</td>\n",
       "      <td>[santa, calling, would, your, little, ones, li...</td>\n",
       "      <td>ham</td>\n",
       "    </tr>\n",
       "    <tr>\n",
       "      <th>652</th>\n",
       "      <td>spam</td>\n",
       "      <td>[i, am, hot, n, horny, and, willing, i, live, ...</td>\n",
       "      <td>ham</td>\n",
       "    </tr>\n",
       "    <tr>\n",
       "      <th>666</th>\n",
       "      <td>spam</td>\n",
       "      <td>[santa, calling, would, your, little, ones, li...</td>\n",
       "      <td>ham</td>\n",
       "    </tr>\n",
       "    <tr>\n",
       "      <th>686</th>\n",
       "      <td>spam</td>\n",
       "      <td>[hi, this, is, amy, we, will, be, sending, you...</td>\n",
       "      <td>ham</td>\n",
       "    </tr>\n",
       "    <tr>\n",
       "      <th>716</th>\n",
       "      <td>spam</td>\n",
       "      <td>[please, call, 08712402578, immediately, as, t...</td>\n",
       "      <td>ham</td>\n",
       "    </tr>\n",
       "    <tr>\n",
       "      <th>751</th>\n",
       "      <td>spam</td>\n",
       "      <td>[marvel, mobile, play, the, official, ultimate...</td>\n",
       "      <td>ham</td>\n",
       "    </tr>\n",
       "    <tr>\n",
       "      <th>811</th>\n",
       "      <td>spam</td>\n",
       "      <td>[get, a, brand, new, mobile, phone, by, being,...</td>\n",
       "      <td>ham</td>\n",
       "    </tr>\n",
       "    <tr>\n",
       "      <th>863</th>\n",
       "      <td>ham</td>\n",
       "      <td>[a, boy, loved, a, gal, he, propsd, bt, she, d...</td>\n",
       "      <td>spam</td>\n",
       "    </tr>\n",
       "    <tr>\n",
       "      <th>875</th>\n",
       "      <td>spam</td>\n",
       "      <td>[hi, if, ur, lookin, 4, saucy, daytime, fun, w...</td>\n",
       "      <td>ham</td>\n",
       "    </tr>\n",
       "    <tr>\n",
       "      <th>885</th>\n",
       "      <td>spam</td>\n",
       "      <td>[88066, from, 88066, lost, 3pound, help]</td>\n",
       "      <td>ham</td>\n",
       "    </tr>\n",
       "    <tr>\n",
       "      <th>903</th>\n",
       "      <td>spam</td>\n",
       "      <td>[hi, its, lucy, hubby, at, meetins, all, day, ...</td>\n",
       "      <td>ham</td>\n",
       "    </tr>\n",
       "    <tr>\n",
       "      <th>904</th>\n",
       "      <td>spam</td>\n",
       "      <td>[hello, we, need, some, posh, birds, and, chap...</td>\n",
       "      <td>ham</td>\n",
       "    </tr>\n",
       "    <tr>\n",
       "      <th>938</th>\n",
       "      <td>spam</td>\n",
       "      <td>[dear, subscriber, ur, draw, 4, 100, gift, vou...</td>\n",
       "      <td>ham</td>\n",
       "    </tr>\n",
       "    <tr>\n",
       "      <th>964</th>\n",
       "      <td>spam</td>\n",
       "      <td>[hello, darling, how, are, you, today, i, woul...</td>\n",
       "      <td>ham</td>\n",
       "    </tr>\n",
       "    <tr>\n",
       "      <th>993</th>\n",
       "      <td>spam</td>\n",
       "      <td>[hi, babe, its, chloe, how, r, u, i, was, smas...</td>\n",
       "      <td>ham</td>\n",
       "    </tr>\n",
       "    <tr>\n",
       "      <th>1022</th>\n",
       "      <td>spam</td>\n",
       "      <td>[goldviking, 29, m, is, inviting, you, to, be,...</td>\n",
       "      <td>ham</td>\n",
       "    </tr>\n",
       "    <tr>\n",
       "      <th>1040</th>\n",
       "      <td>spam</td>\n",
       "      <td>[talk, sexy, make, new, friends, or, fall, in,...</td>\n",
       "      <td>ham</td>\n",
       "    </tr>\n",
       "    <tr>\n",
       "      <th>1054</th>\n",
       "      <td>spam</td>\n",
       "      <td>[hi, the, sexychat, girls, are, waiting, for, ...</td>\n",
       "      <td>ham</td>\n",
       "    </tr>\n",
       "  </tbody>\n",
       "</table>\n",
       "</div>"
      ],
      "text/plain": [
       "     Label                                                SMS predicted\n",
       "52    spam  [more, people, are, dogging, in, your, area, n...       ham\n",
       "83    spam  [you, are, being, contacted, by, our, dating, ...       ham\n",
       "91    spam  [bank, of, granite, issues, strong, buy, explo...       ham\n",
       "103   spam  [missed, call, alert, these, numbers, called, ...       ham\n",
       "159   spam  [please, call, 08712402779, immediately, as, t...       ham\n",
       "196   spam  [natalie, 20, f, is, inviting, you, to, be, he...       ham\n",
       "229   spam  [thanks, for, the, vote, now, sing, along, wit...       ham\n",
       "233   spam    [rct, thnq, adrian, for, u, text, rgds, vatian]       ham\n",
       "251   spam  [sms, ac, sun0819, posts, hello, you, seem, co...       ham\n",
       "267   spam  [please, call, 08712402902, immediately, as, t...       ham\n",
       "313   spam  [reply, with, your, name, and, address, and, y...       ham\n",
       "356   spam  [sms, ac, jsco, energy, is, high, but, u, may,...       ham\n",
       "367   spam  [you, have, 1, new, message, please, call, 087...       ham\n",
       "371   spam  [please, call, amanda, with, regard, to, renew...       ham\n",
       "466   spam  [u, 447801259231, have, a, secret, admirer, wh...       ham\n",
       "476   spam  [we, know, someone, who, you, know, that, fanc...       ham\n",
       "481   spam  [thesmszone, com, lets, you, send, free, anony...       ham\n",
       "482   spam  [your, next, amazing, xxx, picsfree1, video, w...       ham\n",
       "542   spam  [for, sale, arsenal, dartboard, good, conditio...       ham\n",
       "562   spam  [check, out, choose, your, babe, videos, sms, ...       ham\n",
       "570   spam  [you, will, recieve, your, tone, within, the, ...       ham\n",
       "629   spam  [santa, calling, would, your, little, ones, li...       ham\n",
       "652   spam  [i, am, hot, n, horny, and, willing, i, live, ...       ham\n",
       "666   spam  [santa, calling, would, your, little, ones, li...       ham\n",
       "686   spam  [hi, this, is, amy, we, will, be, sending, you...       ham\n",
       "716   spam  [please, call, 08712402578, immediately, as, t...       ham\n",
       "751   spam  [marvel, mobile, play, the, official, ultimate...       ham\n",
       "811   spam  [get, a, brand, new, mobile, phone, by, being,...       ham\n",
       "863    ham  [a, boy, loved, a, gal, he, propsd, bt, she, d...      spam\n",
       "875   spam  [hi, if, ur, lookin, 4, saucy, daytime, fun, w...       ham\n",
       "885   spam           [88066, from, 88066, lost, 3pound, help]       ham\n",
       "903   spam  [hi, its, lucy, hubby, at, meetins, all, day, ...       ham\n",
       "904   spam  [hello, we, need, some, posh, birds, and, chap...       ham\n",
       "938   spam  [dear, subscriber, ur, draw, 4, 100, gift, vou...       ham\n",
       "964   spam  [hello, darling, how, are, you, today, i, woul...       ham\n",
       "993   spam  [hi, babe, its, chloe, how, r, u, i, was, smas...       ham\n",
       "1022  spam  [goldviking, 29, m, is, inviting, you, to, be,...       ham\n",
       "1040  spam  [talk, sexy, make, new, friends, or, fall, in,...       ham\n",
       "1054  spam  [hi, the, sexychat, girls, are, waiting, for, ...       ham"
      ]
     },
     "execution_count": 65,
     "metadata": {},
     "output_type": "execute_result"
    }
   ],
   "source": [
    "test_data.loc[test_data['predicted']!=test_data['Label']]"
   ]
  },
  {
   "cell_type": "code",
   "execution_count": 67,
   "metadata": {},
   "outputs": [
    {
     "data": {
      "text/plain": [
       "39"
      ]
     },
     "execution_count": 67,
     "metadata": {},
     "output_type": "execute_result"
    }
   ],
   "source": [
    "len(test_data.loc[test_data['predicted']!=test_data['Label']])"
   ]
  },
  {
   "cell_type": "code",
   "execution_count": 68,
   "metadata": {},
   "outputs": [
    {
     "data": {
      "text/plain": [
       "1115"
      ]
     },
     "execution_count": 68,
     "metadata": {},
     "output_type": "execute_result"
    }
   ],
   "source": [
    "test_data.shape[0]"
   ]
  },
  {
   "cell_type": "code",
   "execution_count": null,
   "metadata": {},
   "outputs": [],
   "source": []
  }
 ],
 "metadata": {
  "kernelspec": {
   "display_name": "Python 3",
   "language": "python",
   "name": "python3"
  },
  "language_info": {
   "codemirror_mode": {
    "name": "ipython",
    "version": 3
   },
   "file_extension": ".py",
   "mimetype": "text/x-python",
   "name": "python",
   "nbconvert_exporter": "python",
   "pygments_lexer": "ipython3",
   "version": "3.8.5"
  }
 },
 "nbformat": 4,
 "nbformat_minor": 4
}
